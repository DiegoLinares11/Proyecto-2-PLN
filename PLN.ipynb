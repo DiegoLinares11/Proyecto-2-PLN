{
 "cells": [
  {
   "cell_type": "markdown",
   "id": "43f87475",
   "metadata": {},
   "source": [
    "## Proyecto de procesamiento de lenguaje natural\n",
    "Estamos analizando: https://www.kaggle.com/competitions/feedback-prize-effectiveness/overview"
   ]
  },
  {
   "cell_type": "markdown",
   "id": "26494002",
   "metadata": {},
   "source": [
    "### Preprocesamiento de datos"
   ]
  },
  {
   "cell_type": "code",
   "execution_count": 8,
   "id": "1d814589",
   "metadata": {},
   "outputs": [
    {
     "name": "stdout",
     "output_type": "stream",
     "text": [
      "Existe train.csv: True\n",
      "Existe test.csv: True\n",
      "Existe sample_submission.csv: True\n",
      "Dir train txt: data\\train | existe: True\n",
      "Dir test  txt: data\\test | existe: True\n"
     ]
    }
   ],
   "source": [
    "# imports y configuración de paths\n",
    "from pathlib import Path\n",
    "import pandas as pd\n",
    "import numpy as np\n",
    "import re\n",
    "import string\n",
    "\n",
    "BASE_DIR = Path(\".\")\n",
    "DATA_DIR = BASE_DIR / \"data\"\n",
    "\n",
    "PATH_TRAIN_CSV = DATA_DIR / \"train.csv\"\n",
    "PATH_TEST_CSV = DATA_DIR / \"test.csv\"\n",
    "PATH_SUB_CSV = DATA_DIR / \"sample_submission.csv\"\n",
    "\n",
    "# Carpetas con ensayos en .txt\n",
    "PATH_TRAIN_TXT = DATA_DIR / \"train\"\n",
    "PATH_TEST_TXT  = DATA_DIR / \"test\"\n",
    "\n",
    "print(\"Existe train.csv:\", PATH_TRAIN_CSV.exists())\n",
    "print(\"Existe test.csv:\", PATH_TEST_CSV.exists())\n",
    "print(\"Existe sample_submission.csv:\", PATH_SUB_CSV.exists())\n",
    "print(\"Dir train txt:\", PATH_TRAIN_TXT, \"| existe:\", PATH_TRAIN_TXT.exists())\n",
    "print(\"Dir test  txt:\", PATH_TEST_TXT,  \"| existe:\", PATH_TEST_TXT.exists())\n"
   ]
  },
  {
   "cell_type": "code",
   "execution_count": 9,
   "id": "d3a59dbf",
   "metadata": {},
   "outputs": [
    {
     "name": "stdout",
     "output_type": "stream",
     "text": [
      "train_df shape: (36765, 5)\n",
      "test_df  shape: (10, 4)\n",
      "sample_submission shape: (10, 4)\n",
      "\n",
      "Columnas train: ['discourse_id', 'essay_id', 'discourse_text', 'discourse_type', 'discourse_effectiveness']\n",
      "Columnas test : ['discourse_id', 'essay_id', 'discourse_text', 'discourse_type']\n"
     ]
    },
    {
     "data": {
      "text/html": [
       "<div>\n",
       "<style scoped>\n",
       "    .dataframe tbody tr th:only-of-type {\n",
       "        vertical-align: middle;\n",
       "    }\n",
       "\n",
       "    .dataframe tbody tr th {\n",
       "        vertical-align: top;\n",
       "    }\n",
       "\n",
       "    .dataframe thead th {\n",
       "        text-align: right;\n",
       "    }\n",
       "</style>\n",
       "<table border=\"1\" class=\"dataframe\">\n",
       "  <thead>\n",
       "    <tr style=\"text-align: right;\">\n",
       "      <th></th>\n",
       "      <th>discourse_id</th>\n",
       "      <th>essay_id</th>\n",
       "      <th>discourse_text</th>\n",
       "      <th>discourse_type</th>\n",
       "      <th>discourse_effectiveness</th>\n",
       "    </tr>\n",
       "  </thead>\n",
       "  <tbody>\n",
       "    <tr>\n",
       "      <th>0</th>\n",
       "      <td>0013cc385424</td>\n",
       "      <td>007ACE74B050</td>\n",
       "      <td>Hi, i'm Isaac, i'm going to be writing about h...</td>\n",
       "      <td>Lead</td>\n",
       "      <td>Adequate</td>\n",
       "    </tr>\n",
       "    <tr>\n",
       "      <th>1</th>\n",
       "      <td>9704a709b505</td>\n",
       "      <td>007ACE74B050</td>\n",
       "      <td>On my perspective, I think that the face is a ...</td>\n",
       "      <td>Position</td>\n",
       "      <td>Adequate</td>\n",
       "    </tr>\n",
       "    <tr>\n",
       "      <th>2</th>\n",
       "      <td>c22adee811b6</td>\n",
       "      <td>007ACE74B050</td>\n",
       "      <td>I think that the face is a natural landform be...</td>\n",
       "      <td>Claim</td>\n",
       "      <td>Adequate</td>\n",
       "    </tr>\n",
       "  </tbody>\n",
       "</table>\n",
       "</div>"
      ],
      "text/plain": [
       "   discourse_id      essay_id  \\\n",
       "0  0013cc385424  007ACE74B050   \n",
       "1  9704a709b505  007ACE74B050   \n",
       "2  c22adee811b6  007ACE74B050   \n",
       "\n",
       "                                      discourse_text discourse_type  \\\n",
       "0  Hi, i'm Isaac, i'm going to be writing about h...           Lead   \n",
       "1  On my perspective, I think that the face is a ...       Position   \n",
       "2  I think that the face is a natural landform be...          Claim   \n",
       "\n",
       "  discourse_effectiveness  \n",
       "0                Adequate  \n",
       "1                Adequate  \n",
       "2                Adequate  "
      ]
     },
     "metadata": {},
     "output_type": "display_data"
    },
    {
     "name": "stdout",
     "output_type": "stream",
     "text": [
      "\n",
      "Distribución de etiquetas en train:\n",
      "discourse_effectiveness\n",
      "Adequate       20977\n",
      "Effective       9326\n",
      "Ineffective     6462\n",
      "Name: count, dtype: int64\n"
     ]
    }
   ],
   "source": [
    "# cargar CSVs \n",
    "train_df = pd.read_csv(PATH_TRAIN_CSV)\n",
    "test_df  = pd.read_csv(PATH_TEST_CSV)\n",
    "sub_df   = pd.read_csv(PATH_SUB_CSV)\n",
    "\n",
    "print(\"train_df shape:\", train_df.shape)\n",
    "print(\"test_df  shape:\", test_df.shape)\n",
    "print(\"sample_submission shape:\", sub_df.shape)\n",
    "print(\"\\nColumnas train:\", list(train_df.columns))\n",
    "print(\"Columnas test :\", list(test_df.columns))\n",
    "\n",
    "# Mostrar 3 filas para confirmar estructura\n",
    "display(train_df.head(3))\n",
    "\n",
    "# Distribución de clases (si está disponible)\n",
    "if \"discourse_effectiveness\" in train_df.columns:\n",
    "    print(\"\\nDistribución de etiquetas en train:\")\n",
    "    print(train_df[\"discourse_effectiveness\"].value_counts(dropna=False))\n"
   ]
  },
  {
   "cell_type": "markdown",
   "id": "e7ac7f31",
   "metadata": {},
   "source": [
    "train_df shape: (36765, 5) → Cada fila es un fragmento (discourse); hay 36,765 fragmentos.\n",
    "\n",
    "test_df shape: (10, 4) → 10 fragmentos sin etiqueta (perfecto para pruebas locales)."
   ]
  },
  {
   "cell_type": "markdown",
   "id": "a4ae7c2f",
   "metadata": {},
   "source": [
    "### Cargar texto completo del ensayo (.txt) y unir por essay_id"
   ]
  },
  {
   "cell_type": "code",
   "execution_count": null,
   "id": "465459a6",
   "metadata": {},
   "outputs": [
    {
     "name": "stdout",
     "output_type": "stream",
     "text": [
      "Ensayos únicos en train: 4191\n"
     ]
    },
    {
     "data": {
      "text/html": [
       "<div>\n",
       "<style scoped>\n",
       "    .dataframe tbody tr th:only-of-type {\n",
       "        vertical-align: middle;\n",
       "    }\n",
       "\n",
       "    .dataframe tbody tr th {\n",
       "        vertical-align: top;\n",
       "    }\n",
       "\n",
       "    .dataframe thead th {\n",
       "        text-align: right;\n",
       "    }\n",
       "</style>\n",
       "<table border=\"1\" class=\"dataframe\">\n",
       "  <thead>\n",
       "    <tr style=\"text-align: right;\">\n",
       "      <th></th>\n",
       "      <th>essay_id</th>\n",
       "      <th>essay_text</th>\n",
       "    </tr>\n",
       "  </thead>\n",
       "  <tbody>\n",
       "    <tr>\n",
       "      <th>0</th>\n",
       "      <td>007ACE74B050</td>\n",
       "      <td>Hi, i'm Isaac, i'm going to be writing about h...</td>\n",
       "    </tr>\n",
       "    <tr>\n",
       "      <th>9</th>\n",
       "      <td>00944C693682</td>\n",
       "      <td>Limiting the usage of cars has personal and pr...</td>\n",
       "    </tr>\n",
       "    <tr>\n",
       "      <th>20</th>\n",
       "      <td>00BD97EA4041</td>\n",
       "      <td>Should computers read the emotional expression...</td>\n",
       "    </tr>\n",
       "  </tbody>\n",
       "</table>\n",
       "</div>"
      ],
      "text/plain": [
       "        essay_id                                         essay_text\n",
       "0   007ACE74B050  Hi, i'm Isaac, i'm going to be writing about h...\n",
       "9   00944C693682  Limiting the usage of cars has personal and pr...\n",
       "20  00BD97EA4041  Should computers read the emotional expression..."
      ]
     },
     "metadata": {},
     "output_type": "display_data"
    },
    {
     "name": "stdout",
     "output_type": "stream",
     "text": [
      "train_df + essay_text: (36765, 6)\n"
     ]
    }
   ],
   "source": [
    "# funciones para leer ensayos y unir \n",
    "def read_essay_text(essay_id: str, split=\"train\") -> str:\n",
    "    \"\"\"\n",
    "    Lee el .txt de un ensayo dado su essay_id.\n",
    "    split: 'train' o 'test' para elegir carpeta.\n",
    "    \"\"\"\n",
    "    folder = PATH_TRAIN_TXT if split == \"train\" else PATH_TEST_TXT\n",
    "    path = folder / f\"{essay_id}.txt\"\n",
    "    if not path.exists():\n",
    "        return \"\"\n",
    "    try:\n",
    "        return path.read_text(encoding=\"utf-8\")\n",
    "    except UnicodeDecodeError:\n",
    "        # fallback por si hay caracteres raros\n",
    "        return path.read_text(encoding=\"latin-1\", errors=\"ignore\")\n",
    "\n",
    "# Construimos un df con ensayo_id único y el texto\n",
    "essays_train = (\n",
    "    train_df[[\"essay_id\"]]\n",
    "    .drop_duplicates()\n",
    "    .assign(essay_text=lambda d: d[\"essay_id\"].apply(lambda x: read_essay_text(x, split=\"train\")))\n",
    ")\n",
    "\n",
    "print(\"Ensayos únicos en train:\", essays_train.shape[0])\n",
    "display(essays_train.head(3))\n",
    "\n",
    "# Unimos el texto completo del ensayo a cada fila del train (nivel de discourse)\n",
    "train_df = train_df.merge(essays_train, on=\"essay_id\", how=\"left\")\n",
    "print(\"train_df + essay_text:\", train_df.shape)\n"
   ]
  },
  {
   "cell_type": "markdown",
   "id": "82130054",
   "metadata": {},
   "source": [
    "Hay varios fragmentos por ensayo."
   ]
  },
  {
   "cell_type": "markdown",
   "id": "953712bd",
   "metadata": {},
   "source": [
    "### Limpieza ligera del texto"
   ]
  },
  {
   "cell_type": "code",
   "execution_count": null,
   "id": "6329e96a",
   "metadata": {},
   "outputs": [
    {
     "data": {
      "text/html": [
       "<div>\n",
       "<style scoped>\n",
       "    .dataframe tbody tr th:only-of-type {\n",
       "        vertical-align: middle;\n",
       "    }\n",
       "\n",
       "    .dataframe tbody tr th {\n",
       "        vertical-align: top;\n",
       "    }\n",
       "\n",
       "    .dataframe thead th {\n",
       "        text-align: right;\n",
       "    }\n",
       "</style>\n",
       "<table border=\"1\" class=\"dataframe\">\n",
       "  <thead>\n",
       "    <tr style=\"text-align: right;\">\n",
       "      <th></th>\n",
       "      <th>discourse_text</th>\n",
       "      <th>discourse_text_clean</th>\n",
       "    </tr>\n",
       "  </thead>\n",
       "  <tbody>\n",
       "    <tr>\n",
       "      <th>0</th>\n",
       "      <td>Hi, i'm Isaac, i'm going to be writing about h...</td>\n",
       "      <td>hi i'm isaac i'm going to be writing about how...</td>\n",
       "    </tr>\n",
       "    <tr>\n",
       "      <th>1</th>\n",
       "      <td>On my perspective, I think that the face is a ...</td>\n",
       "      <td>on my perspective i think that the face is a n...</td>\n",
       "    </tr>\n",
       "    <tr>\n",
       "      <th>2</th>\n",
       "      <td>I think that the face is a natural landform be...</td>\n",
       "      <td>i think that the face is a natural landform be...</td>\n",
       "    </tr>\n",
       "  </tbody>\n",
       "</table>\n",
       "</div>"
      ],
      "text/plain": [
       "                                      discourse_text  \\\n",
       "0  Hi, i'm Isaac, i'm going to be writing about h...   \n",
       "1  On my perspective, I think that the face is a ...   \n",
       "2  I think that the face is a natural landform be...   \n",
       "\n",
       "                                discourse_text_clean  \n",
       "0  hi i'm isaac i'm going to be writing about how...  \n",
       "1  on my perspective i think that the face is a n...  \n",
       "2  i think that the face is a natural landform be...  "
      ]
     },
     "metadata": {},
     "output_type": "display_data"
    }
   ],
   "source": [
    "# limpieza ligera ===\n",
    "PUNCT = string.punctuation.replace(\"'\", \"\")  # conservamos comillas simples por si hay contracciones\n",
    "PUNCT_RE = re.compile(f\"[{re.escape(PUNCT)}]\")\n",
    "\n",
    "def normalize_whitespace(s: str) -> str:\n",
    "    return re.sub(r\"\\s+\", \" \", s).strip()\n",
    "\n",
    "def basic_clean(s: str) -> str:\n",
    "    if not isinstance(s, str):\n",
    "        return \"\"\n",
    "    s = s.lower()\n",
    "    # reemplazar puntuación rara (dejamos apostrofes)\n",
    "    s = PUNCT_RE.sub(\" \", s)\n",
    "    # remover caracteres no-ascii problemáticos\n",
    "    s = s.encode(\"ascii\", errors=\"ignore\").decode(\"ascii\")\n",
    "    # espacios\n",
    "    s = normalize_whitespace(s)\n",
    "    return s\n",
    "\n",
    "# Aplicamos a discourse_text y essay_text\n",
    "train_df[\"discourse_text_clean\"] = train_df[\"discourse_text\"].apply(basic_clean)\n",
    "train_df[\"essay_text_clean\"]     = train_df[\"essay_text\"].apply(basic_clean)\n",
    "\n",
    "display(train_df[[\"discourse_text\", \"discourse_text_clean\"]].head(3))\n"
   ]
  },
  {
   "cell_type": "markdown",
   "id": "9dade426",
   "metadata": {},
   "source": [
    "### Features simples para EDA\n",
    "Contamos palabras, oraciones (regex sencilla), densidad de puntuación, mayúsculas, y conectores lógicos."
   ]
  },
  {
   "cell_type": "code",
   "execution_count": 12,
   "id": "802fa63a",
   "metadata": {},
   "outputs": [
    {
     "data": {
      "text/html": [
       "<div>\n",
       "<style scoped>\n",
       "    .dataframe tbody tr th:only-of-type {\n",
       "        vertical-align: middle;\n",
       "    }\n",
       "\n",
       "    .dataframe tbody tr th {\n",
       "        vertical-align: top;\n",
       "    }\n",
       "\n",
       "    .dataframe thead th {\n",
       "        text-align: right;\n",
       "    }\n",
       "</style>\n",
       "<table border=\"1\" class=\"dataframe\">\n",
       "  <thead>\n",
       "    <tr style=\"text-align: right;\">\n",
       "      <th></th>\n",
       "      <th>discourse_type</th>\n",
       "      <th>discourse_effectiveness</th>\n",
       "      <th>disc_words</th>\n",
       "      <th>disc_sents</th>\n",
       "      <th>disc_avg_wps</th>\n",
       "      <th>disc_connectors</th>\n",
       "    </tr>\n",
       "  </thead>\n",
       "  <tbody>\n",
       "    <tr>\n",
       "      <th>0</th>\n",
       "      <td>Lead</td>\n",
       "      <td>Adequate</td>\n",
       "      <td>67</td>\n",
       "      <td>3</td>\n",
       "      <td>22.333333</td>\n",
       "      <td>0</td>\n",
       "    </tr>\n",
       "    <tr>\n",
       "      <th>1</th>\n",
       "      <td>Position</td>\n",
       "      <td>Adequate</td>\n",
       "      <td>41</td>\n",
       "      <td>2</td>\n",
       "      <td>20.500000</td>\n",
       "      <td>1</td>\n",
       "    </tr>\n",
       "    <tr>\n",
       "      <th>2</th>\n",
       "      <td>Claim</td>\n",
       "      <td>Adequate</td>\n",
       "      <td>21</td>\n",
       "      <td>1</td>\n",
       "      <td>21.000000</td>\n",
       "      <td>1</td>\n",
       "    </tr>\n",
       "    <tr>\n",
       "      <th>3</th>\n",
       "      <td>Evidence</td>\n",
       "      <td>Adequate</td>\n",
       "      <td>72</td>\n",
       "      <td>4</td>\n",
       "      <td>18.000000</td>\n",
       "      <td>1</td>\n",
       "    </tr>\n",
       "    <tr>\n",
       "      <th>4</th>\n",
       "      <td>Counterclaim</td>\n",
       "      <td>Adequate</td>\n",
       "      <td>18</td>\n",
       "      <td>1</td>\n",
       "      <td>18.000000</td>\n",
       "      <td>1</td>\n",
       "    </tr>\n",
       "  </tbody>\n",
       "</table>\n",
       "</div>"
      ],
      "text/plain": [
       "  discourse_type discourse_effectiveness  disc_words  disc_sents  \\\n",
       "0           Lead                Adequate          67           3   \n",
       "1       Position                Adequate          41           2   \n",
       "2          Claim                Adequate          21           1   \n",
       "3       Evidence                Adequate          72           4   \n",
       "4   Counterclaim                Adequate          18           1   \n",
       "\n",
       "   disc_avg_wps  disc_connectors  \n",
       "0     22.333333                0  \n",
       "1     20.500000                1  \n",
       "2     21.000000                1  \n",
       "3     18.000000                1  \n",
       "4     18.000000                1  "
      ]
     },
     "metadata": {},
     "output_type": "display_data"
    }
   ],
   "source": [
    "#  features simples \n",
    "SENT_SPLIT_RE = re.compile(r\"[.!?]+\")\n",
    "CONNECTORS = [\n",
    "    \"because\",\"since\",\"therefore\",\"however\",\"moreover\",\"furthermore\",\n",
    "    \"for example\",\"for instance\",\"in conclusion\",\"on the other hand\",\n",
    "    \"in addition\",\"as a result\",\"consequently\",\"in contrast\",\"thus\"\n",
    "]\n",
    "\n",
    "def count_sentences(text: str) -> int:\n",
    "    if not isinstance(text, str) or not text.strip():\n",
    "        return 0\n",
    "    parts = [p.strip() for p in SENT_SPLIT_RE.split(text) if p.strip()]\n",
    "    return len(parts)\n",
    "\n",
    "def word_count(text: str) -> int:\n",
    "    if not isinstance(text, str) or not text.strip():\n",
    "        return 0\n",
    "    return len(text.split())\n",
    "\n",
    "def punct_density(raw: str) -> float:\n",
    "    if not isinstance(raw, str) or not raw:\n",
    "        return 0.0\n",
    "    puncts = sum(1 for ch in raw if ch in string.punctuation)\n",
    "    return puncts / max(1, len(raw))\n",
    "\n",
    "def uppercase_ratio(raw: str) -> float:\n",
    "    if not isinstance(raw, str) or not raw:\n",
    "        return 0.0\n",
    "    ups = sum(1 for ch in raw if ch.isupper())\n",
    "    letters = sum(1 for ch in raw if ch.isalpha())\n",
    "    return ups / max(1, letters)\n",
    "\n",
    "def count_connectors(clean_text: str) -> int:\n",
    "    if not isinstance(clean_text, str):\n",
    "        return 0\n",
    "    t = f\" {clean_text} \"\n",
    "    return sum(t.count(f\" {w} \") for w in CONNECTORS)\n",
    "\n",
    "# Features a nivel de fragmento (discourse)\n",
    "train_df[\"disc_words\"]      = train_df[\"discourse_text_clean\"].apply(word_count)\n",
    "train_df[\"disc_sents\"]      = train_df[\"discourse_text\"].apply(count_sentences)\n",
    "train_df[\"disc_avg_wps\"]    = (train_df[\"disc_words\"] / train_df[\"disc_sents\"].replace(0, np.nan)).fillna(train_df[\"disc_words\"])\n",
    "train_df[\"disc_punctdens\"]  = train_df[\"discourse_text\"].apply(punct_density)\n",
    "train_df[\"disc_upcase\"]     = train_df[\"discourse_text\"].apply(uppercase_ratio)\n",
    "train_df[\"disc_connectors\"] = train_df[\"discourse_text_clean\"].apply(count_connectors)\n",
    "\n",
    "# Features a nivel de ensayo (repetidas por fila para facilitar groupby en EDA)\n",
    "train_df[\"essay_words\"]      = train_df[\"essay_text_clean\"].apply(word_count)\n",
    "train_df[\"essay_sents\"]      = train_df[\"essay_text\"].apply(count_sentences)\n",
    "train_df[\"essay_avg_wps\"]    = (train_df[\"essay_words\"] / train_df[\"essay_sents\"].replace(0, np.nan)).fillna(train_df[\"essay_words\"])\n",
    "train_df[\"essay_punctdens\"]  = train_df[\"essay_text\"].apply(punct_density)\n",
    "train_df[\"essay_upcase\"]     = train_df[\"essay_text\"].apply(uppercase_ratio)\n",
    "train_df[\"essay_connectors\"] = train_df[\"essay_text_clean\"].apply(count_connectors)\n",
    "\n",
    "cols_show = [\"discourse_type\",\"discourse_effectiveness\",\"disc_words\",\"disc_sents\",\"disc_avg_wps\",\"disc_connectors\"]\n",
    "display(train_df[cols_show].head(5))\n"
   ]
  },
  {
   "cell_type": "markdown",
   "id": "d111c28b",
   "metadata": {},
   "source": [
    "### Codificar etiquetas (para modelado posterior)"
   ]
  },
  {
   "cell_type": "code",
   "execution_count": 13,
   "id": "a6203c7e",
   "metadata": {},
   "outputs": [
    {
     "name": "stdout",
     "output_type": "stream",
     "text": [
      "  discourse_effectiveness  label\n",
      "5             Ineffective      0\n",
      "0                Adequate      1\n",
      "9               Effective      2\n"
     ]
    }
   ],
   "source": [
    "# codificación de etiquetas\n",
    "label_map = {\"Ineffective\":0, \"Adequate\":1, \"Effective\":2}\n",
    "if \"discourse_effectiveness\" in train_df.columns:\n",
    "    train_df[\"label\"] = train_df[\"discourse_effectiveness\"].map(label_map)\n",
    "    print(train_df[[\"discourse_effectiveness\",\"label\"]].drop_duplicates().sort_values(\"label\"))\n"
   ]
  },
  {
   "cell_type": "code",
   "execution_count": 18,
   "id": "aeede585",
   "metadata": {},
   "outputs": [
    {
     "name": "stdout",
     "output_type": "stream",
     "text": [
      "discourse_type\n",
      "Evidence                12105\n",
      "Claim                   11977\n",
      "Position                 4024\n",
      "Concluding Statement     3351\n",
      "Lead                     2291\n",
      "Counterclaim             1773\n",
      "Rebuttal                 1244\n",
      "Name: count, dtype: int64\n"
     ]
    }
   ],
   "source": [
    "print(train_df[\"discourse_type\"].value_counts())\n"
   ]
  }
 ],
 "metadata": {
  "kernelspec": {
   "display_name": "Python 3",
   "language": "python",
   "name": "python3"
  },
  "language_info": {
   "codemirror_mode": {
    "name": "ipython",
    "version": 3
   },
   "file_extension": ".py",
   "mimetype": "text/x-python",
   "name": "python",
   "nbconvert_exporter": "python",
   "pygments_lexer": "ipython3",
   "version": "3.10.0"
  }
 },
 "nbformat": 4,
 "nbformat_minor": 5
}
