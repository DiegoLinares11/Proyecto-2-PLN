{
 "cells": [
  {
   "cell_type": "code",
   "execution_count": 1,
   "id": "1d814589",
   "metadata": {},
   "outputs": [
    {
     "name": "stdout",
     "output_type": "stream",
     "text": [
      "Existe train.csv: True\n",
      "Existe test.csv: True\n",
      "Existe sample_submission.csv: True\n",
      "Dir train txt: data\\train | existe: True\n",
      "Dir test  txt: data\\test | existe: True\n"
     ]
    }
   ],
   "source": [
    "# imports y configuración de paths\n",
    "from pathlib import Path\n",
    "import pandas as pd\n",
    "import numpy as np\n",
    "import re\n",
    "import string\n",
    "\n",
    "BASE_DIR = Path(\".\")\n",
    "DATA_DIR = BASE_DIR / \"data\"\n",
    "\n",
    "PATH_TRAIN_CSV = DATA_DIR / \"train.csv\"\n",
    "PATH_TEST_CSV = DATA_DIR / \"test.csv\"\n",
    "PATH_SUB_CSV = DATA_DIR / \"sample_submission.csv\"\n",
    "\n",
    "# Carpetas con ensayos en .txt\n",
    "PATH_TRAIN_TXT = DATA_DIR / \"train\"\n",
    "PATH_TEST_TXT  = DATA_DIR / \"test\"\n",
    "\n",
    "print(\"Existe train.csv:\", PATH_TRAIN_CSV.exists())\n",
    "print(\"Existe test.csv:\", PATH_TEST_CSV.exists())\n",
    "print(\"Existe sample_submission.csv:\", PATH_SUB_CSV.exists())\n",
    "print(\"Dir train txt:\", PATH_TRAIN_TXT, \"| existe:\", PATH_TRAIN_TXT.exists())\n",
    "print(\"Dir test  txt:\", PATH_TEST_TXT,  \"| existe:\", PATH_TEST_TXT.exists())\n"
   ]
  },
  {
   "cell_type": "code",
   "execution_count": 2,
   "id": "d3a59dbf",
   "metadata": {},
   "outputs": [
    {
     "name": "stdout",
     "output_type": "stream",
     "text": [
      "train_df shape: (36765, 5)\n",
      "test_df  shape: (10, 4)\n",
      "sample_submission shape: (10, 4)\n",
      "\n",
      "Columnas train: ['discourse_id', 'essay_id', 'discourse_text', 'discourse_type', 'discourse_effectiveness']\n",
      "Columnas test : ['discourse_id', 'essay_id', 'discourse_text', 'discourse_type']\n"
     ]
    },
    {
     "data": {
      "text/html": [
       "<div>\n",
       "<style scoped>\n",
       "    .dataframe tbody tr th:only-of-type {\n",
       "        vertical-align: middle;\n",
       "    }\n",
       "\n",
       "    .dataframe tbody tr th {\n",
       "        vertical-align: top;\n",
       "    }\n",
       "\n",
       "    .dataframe thead th {\n",
       "        text-align: right;\n",
       "    }\n",
       "</style>\n",
       "<table border=\"1\" class=\"dataframe\">\n",
       "  <thead>\n",
       "    <tr style=\"text-align: right;\">\n",
       "      <th></th>\n",
       "      <th>discourse_id</th>\n",
       "      <th>essay_id</th>\n",
       "      <th>discourse_text</th>\n",
       "      <th>discourse_type</th>\n",
       "      <th>discourse_effectiveness</th>\n",
       "    </tr>\n",
       "  </thead>\n",
       "  <tbody>\n",
       "    <tr>\n",
       "      <th>0</th>\n",
       "      <td>0013cc385424</td>\n",
       "      <td>007ACE74B050</td>\n",
       "      <td>Hi, i'm Isaac, i'm going to be writing about h...</td>\n",
       "      <td>Lead</td>\n",
       "      <td>Adequate</td>\n",
       "    </tr>\n",
       "    <tr>\n",
       "      <th>1</th>\n",
       "      <td>9704a709b505</td>\n",
       "      <td>007ACE74B050</td>\n",
       "      <td>On my perspective, I think that the face is a ...</td>\n",
       "      <td>Position</td>\n",
       "      <td>Adequate</td>\n",
       "    </tr>\n",
       "    <tr>\n",
       "      <th>2</th>\n",
       "      <td>c22adee811b6</td>\n",
       "      <td>007ACE74B050</td>\n",
       "      <td>I think that the face is a natural landform be...</td>\n",
       "      <td>Claim</td>\n",
       "      <td>Adequate</td>\n",
       "    </tr>\n",
       "  </tbody>\n",
       "</table>\n",
       "</div>"
      ],
      "text/plain": [
       "   discourse_id      essay_id  \\\n",
       "0  0013cc385424  007ACE74B050   \n",
       "1  9704a709b505  007ACE74B050   \n",
       "2  c22adee811b6  007ACE74B050   \n",
       "\n",
       "                                      discourse_text discourse_type  \\\n",
       "0  Hi, i'm Isaac, i'm going to be writing about h...           Lead   \n",
       "1  On my perspective, I think that the face is a ...       Position   \n",
       "2  I think that the face is a natural landform be...          Claim   \n",
       "\n",
       "  discourse_effectiveness  \n",
       "0                Adequate  \n",
       "1                Adequate  \n",
       "2                Adequate  "
      ]
     },
     "metadata": {},
     "output_type": "display_data"
    },
    {
     "name": "stdout",
     "output_type": "stream",
     "text": [
      "\n",
      "Distribución de etiquetas en train:\n",
      "discourse_effectiveness\n",
      "Adequate       20977\n",
      "Effective       9326\n",
      "Ineffective     6462\n",
      "Name: count, dtype: int64\n"
     ]
    }
   ],
   "source": [
    "# cargar CSVs \n",
    "train_df = pd.read_csv(PATH_TRAIN_CSV)\n",
    "test_df  = pd.read_csv(PATH_TEST_CSV)\n",
    "sub_df   = pd.read_csv(PATH_SUB_CSV)\n",
    "\n",
    "print(\"train_df shape:\", train_df.shape)\n",
    "print(\"test_df  shape:\", test_df.shape)\n",
    "print(\"sample_submission shape:\", sub_df.shape)\n",
    "print(\"\\nColumnas train:\", list(train_df.columns))\n",
    "print(\"Columnas test :\", list(test_df.columns))\n",
    "\n",
    "# Mostrar 3 filas para confirmar estructura\n",
    "display(train_df.head(3))\n",
    "\n",
    "# Distribución de clases (si está disponible)\n",
    "if \"discourse_effectiveness\" in train_df.columns:\n",
    "    print(\"\\nDistribución de etiquetas en train:\")\n",
    "    print(train_df[\"discourse_effectiveness\"].value_counts(dropna=False))\n"
   ]
  }
 ],
 "metadata": {
  "kernelspec": {
   "display_name": "Python 3",
   "language": "python",
   "name": "python3"
  },
  "language_info": {
   "codemirror_mode": {
    "name": "ipython",
    "version": 3
   },
   "file_extension": ".py",
   "mimetype": "text/x-python",
   "name": "python",
   "nbconvert_exporter": "python",
   "pygments_lexer": "ipython3",
   "version": "3.10.0"
  }
 },
 "nbformat": 4,
 "nbformat_minor": 5
}
