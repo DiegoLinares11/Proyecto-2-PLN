{
 "cells": [
  {
   "cell_type": "markdown",
   "id": "00fa5cff-daa4-47c9-b399-0229b8aa734d",
   "metadata": {},
   "source": [
    "# Resultados parciales y visualizaciones estáticas"
   ]
  },
  {
   "cell_type": "code",
   "execution_count": 6,
   "id": "2ad8d570-6c46-4715-b77d-a56ec9153678",
   "metadata": {},
   "outputs": [],
   "source": [
    "import pandas as pd\n",
    "from sklearn.model_selection import train_test_split\n",
    "from sklearn.feature_extraction.text import TfidfVectorizer\n",
    "from sklearn.svm import LinearSVC\n",
    "from sklearn.metrics import classification_report, confusion_matrix"
   ]
  },
  {
   "cell_type": "code",
   "execution_count": 12,
   "id": "ffede144-d4ef-4880-b533-8bba9efc7f09",
   "metadata": {},
   "outputs": [
    {
     "name": "stdout",
     "output_type": "stream",
     "text": [
      "       essay_id  discourse_id discourse_type  \\\n",
      "0  007ACE74B050  0013cc385424           Lead   \n",
      "1  007ACE74B050  9704a709b505       Position   \n",
      "2  007ACE74B050  c22adee811b6          Claim   \n",
      "\n",
      "                                      discourse_text  \\\n",
      "0  Hi, i'm Isaac, i'm going to be writing about h...   \n",
      "1  On my perspective, I think that the face is a ...   \n",
      "2  I think that the face is a natural landform be...   \n",
      "\n",
      "                                discourse_text_clean  \\\n",
      "0  hi i'm isaac i'm going to be writing about how...   \n",
      "1  on my perspective i think that the face is a n...   \n",
      "2  i think that the face is a natural landform be...   \n",
      "\n",
      "                                          essay_text  \\\n",
      "0  Hi, i'm Isaac, i'm going to be writing about h...   \n",
      "1  Hi, i'm Isaac, i'm going to be writing about h...   \n",
      "2  Hi, i'm Isaac, i'm going to be writing about h...   \n",
      "\n",
      "                                    essay_text_clean discourse_effectiveness  \\\n",
      "0  hi i'm isaac i'm going to be writing about how...                Adequate   \n",
      "1  hi i'm isaac i'm going to be writing about how...                Adequate   \n",
      "2  hi i'm isaac i'm going to be writing about how...                Adequate   \n",
      "\n",
      "   label  \n",
      "0      1  \n",
      "1      1  \n",
      "2      1  \n",
      "       essay_id  discourse_id discourse_type  \\\n",
      "0  D72CB1C11673  a261b6e14276           Lead   \n",
      "1  D72CB1C11673  5a88900e7dc1       Position   \n",
      "2  D72CB1C11673  9790d835736b          Claim   \n",
      "\n",
      "                                      discourse_text  \n",
      "0  Making choices in life can be very difficult. ...  \n",
      "1  Seeking multiple opinions can help a person ma...  \n",
      "2                     it can decrease stress levels   \n"
     ]
    }
   ],
   "source": [
    "# carga de los datos\n",
    "\n",
    "train_dataset = pd.read_csv(\"clean_train.csv\")\n",
    "test_dataset = pd.read_csv(\"clean_test.csv\")\n",
    "\n",
    "print(train_dataset.head(3))\n",
    "print(test_dataset.head(3))"
   ]
  },
  {
   "cell_type": "markdown",
   "id": "392fa73e-05ed-41bc-87fc-2e49ebf7605f",
   "metadata": {},
   "source": [
    "## SVM + TF-IDF"
   ]
  },
  {
   "cell_type": "code",
   "execution_count": 14,
   "id": "94de2f38-201c-4aa9-8b8c-fbc895202996",
   "metadata": {},
   "outputs": [
    {
     "name": "stdout",
     "output_type": "stream",
     "text": [
      "                                      discourse_text  predicted_label\n",
      "0  Making choices in life can be very difficult. ...                1\n",
      "1  Seeking multiple opinions can help a person ma...                1\n",
      "2                     it can decrease stress levels                 1\n",
      "3             a great chance to learn something new                 2\n",
      "4               can be very helpful and beneficial.                 1\n"
     ]
    }
   ],
   "source": [
    "X_train = train_dataset[\"discourse_text_clean\"]\n",
    "y_train = train_dataset[\"label\"]\n",
    "\n",
    "# vectorización con TF-IDF\n",
    "tfidf = TfidfVectorizer(\n",
    "    sublinear_tf=True,\n",
    "    min_df=5,\n",
    "    norm='l2',\n",
    "    encoding='utf-8',\n",
    "    ngram_range=(1,2),\n",
    "    stop_words='english'\n",
    ")\n",
    "\n",
    "X_train_tfidf = tfidf.fit_transform(X_train)\n",
    "X_test_tfidf = tfidf.transform(test_dataset[\"discourse_text\"])\n",
    "\n",
    "svm = LinearSVC(random_state=42)\n",
    "svm.fit(X_train_tfidf, y_train)\n",
    "\n",
    "test_predictions = svm.predict(X_test_tfidf)\n",
    "test_dataset[\"predicted_label\"] = test_predictions\n",
    "\n",
    "print(test_dataset[[\"discourse_text\", \"predicted_label\"]].head())"
   ]
  }
 ],
 "metadata": {
  "kernelspec": {
   "display_name": "Python 3 (ipykernel)",
   "language": "python",
   "name": "python3"
  },
  "language_info": {
   "codemirror_mode": {
    "name": "ipython",
    "version": 3
   },
   "file_extension": ".py",
   "mimetype": "text/x-python",
   "name": "python",
   "nbconvert_exporter": "python",
   "pygments_lexer": "ipython3",
   "version": "3.13.7"
  }
 },
 "nbformat": 4,
 "nbformat_minor": 5
}
